{
 "cells": [
  {
   "cell_type": "code",
   "execution_count": null,
   "metadata": {},
   "outputs": [],
   "source": [
    "import os\n",
    "os.chdir(r'C:\\Users\\RAJENDER REDDY\\Desktop\\Mani Backup\\Bootstrap Hackathon')"
   ]
  },
  {
   "cell_type": "code",
   "execution_count": null,
   "metadata": {},
   "outputs": [],
   "source": [
    "os.getcwd()"
   ]
  },
  {
   "cell_type": "code",
   "execution_count": null,
   "metadata": {},
   "outputs": [],
   "source": [
    "import pandas as pd\n",
    "import numpy as np"
   ]
  },
  {
   "cell_type": "code",
   "execution_count": null,
   "metadata": {},
   "outputs": [],
   "source": [
    "df = pd.read_csv(r\"C:\\Users\\RAJENDER REDDY\\Desktop\\Mani Backup\\Bootstrap Hackathon\\temp_bq_data\\hackathon_data.csv\")"
   ]
  },
  {
   "cell_type": "code",
   "execution_count": null,
   "metadata": {},
   "outputs": [],
   "source": [
    "df.head(5)"
   ]
  },
  {
   "cell_type": "code",
   "execution_count": null,
   "metadata": {},
   "outputs": [],
   "source": [
    "df.info()"
   ]
  },
  {
   "cell_type": "code",
   "execution_count": null,
   "metadata": {},
   "outputs": [],
   "source": [
    "df.describe()"
   ]
  },
  {
   "cell_type": "code",
   "execution_count": null,
   "metadata": {},
   "outputs": [],
   "source": [
    "df.isnull().sum() #No null values"
   ]
  },
  {
   "cell_type": "code",
   "execution_count": null,
   "metadata": {},
   "outputs": [],
   "source": [
    "print(\"uniq cust\",df.customer_id.nunique())\n",
    "print(\"uniq order_date\",df.order_date.nunique())\n",
    "print(\"uniq city_id\",df.city_id.nunique())\n",
    "print(\"uniq manufacturer_id\",df.manufacturer_id.nunique())\n",
    "print(\"uniq society_id\",df.society_id.nunique()) \n",
    "print(\"uniq store_id\",df.store_id.nunique()) \n",
    "print(\"uniq category_id\",df.category_id.nunique())\n",
    "print(\"uniq subcategory_id\",df.subcategory_id.nunique())\n",
    "print(\"uniq product_id\",df.product_id.nunique())\n",
    "print(\"uniq order_id\",df.order_id.nunique())"
   ]
  },
  {
   "cell_type": "code",
   "execution_count": null,
   "metadata": {},
   "outputs": [],
   "source": [
    "#min date\n",
    "print(\"start date\",df.order_date.min())\n",
    "print(\"end date\",df.order_date.max())"
   ]
  },
  {
   "cell_type": "code",
   "execution_count": null,
   "metadata": {},
   "outputs": [],
   "source": [
    "#Total order value\n",
    "print(\"total Revenue\",df.total_cost.sum())"
   ]
  },
  {
   "cell_type": "code",
   "execution_count": null,
   "metadata": {},
   "outputs": [],
   "source": [
    "#Total order value\n",
    "print(\"total Revenue from subscription\",df.groupby('subscription').total_cost.sum())"
   ]
  },
  {
   "cell_type": "code",
   "execution_count": null,
   "metadata": {},
   "outputs": [],
   "source": [
    "#Total orders\n",
    "print(\"total orders from subscription\",df.groupby('subscription').order_id.nunique())"
   ]
  },
  {
   "cell_type": "code",
   "execution_count": null,
   "metadata": {},
   "outputs": [],
   "source": [
    "#Total orders\n",
    "print(\"total customers with subscription\",df.groupby('subscription').customer_id.nunique())"
   ]
  },
  {
   "cell_type": "code",
   "execution_count": null,
   "metadata": {},
   "outputs": [],
   "source": [
    "#Avg MRP for subscription\n",
    "print(\"total customers with subscription\",df.groupby('subscription').selling_price_per_unit.mean())"
   ]
  },
  {
   "cell_type": "code",
   "execution_count": null,
   "metadata": {},
   "outputs": [],
   "source": [
    "#Avg MRP overall price/txn\n",
    "print(\"overall avg MRP\",df.selling_price_per_unit.mean())"
   ]
  },
  {
   "cell_type": "code",
   "execution_count": null,
   "metadata": {},
   "outputs": [],
   "source": [
    "#Avg MRP overall price/txn\n",
    "print(\"Subscription Start date\",df.groupby('subscription').order_date.min())\n",
    "#Avg MRP overall price/txn\n",
    "print(\"Subscription end date?\",df.groupby('subscription').order_date.max())"
   ]
  },
  {
   "cell_type": "code",
   "execution_count": null,
   "metadata": {},
   "outputs": [],
   "source": [
    "#subscription vs non subscribed customers. Subscription - Atleast product one subscription\n",
    "df_sub = df.groupby('customer_id').subscription.max()\n",
    "df_sub.head()"
   ]
  },
  {
   "cell_type": "code",
   "execution_count": null,
   "metadata": {},
   "outputs": [],
   "source": [
    "df_sub = df_sub.reset_index()\n",
    "df_sub.count()"
   ]
  },
  {
   "cell_type": "code",
   "execution_count": null,
   "metadata": {},
   "outputs": [],
   "source": [
    "df_min_order_dt = df.groupby('customer_id').order_date.min() \n",
    "df_min_order_dt = df_min_order_dt.reset_index()\n",
    "df_min_order_dt.count()\n",
    "df_min_order_dt.rename(columns={\"order_date\":\"min_order_date\"}, inplace = True)"
   ]
  },
  {
   "cell_type": "code",
   "execution_count": null,
   "metadata": {},
   "outputs": [],
   "source": [
    "df_max_order_dt = df.groupby('customer_id').order_date.max() \n",
    "df_max_order_dt = df_max_order_dt.reset_index()\n",
    "df_max_order_dt.rename(columns={\"order_date\":\"max_order_date\"}, inplace = True)\n",
    "df_max_order_dt.count()"
   ]
  },
  {
   "cell_type": "code",
   "execution_count": null,
   "metadata": {},
   "outputs": [],
   "source": [
    "##Merge min,max, subscription\n",
    "df_mer1 = pd.merge(df_sub, df_min_order_dt, how='left', left_on = ['customer_id'], right_on = ['customer_id']) \n",
    "df_mer1.head()\n",
    "df_mer2 = pd.merge(df_mer1, df_max_order_dt, how='left', left_on = ['customer_id'], right_on = ['customer_id']) \n",
    "df_mer2.head()"
   ]
  },
  {
   "cell_type": "code",
   "execution_count": null,
   "metadata": {},
   "outputs": [],
   "source": [
    "#retention - Assumptions atleast 6 months data, retained if active atleast once in last 2 months\n",
    "df3 = df_mer2[df_mer2['min_order_date']<='2019-01-01']\n",
    "df3.min_order_date.max()\n",
    "df3.min_order_date.count()\n",
    "df3.subscription.value_counts()"
   ]
  },
  {
   "cell_type": "code",
   "execution_count": null,
   "metadata": {},
   "outputs": [],
   "source": [
    "df_mer2.subscription.value_counts()"
   ]
  },
  {
   "cell_type": "code",
   "execution_count": null,
   "metadata": {},
   "outputs": [],
   "source": [
    "df3[df3['max_order_date']>='2019-05-01'].subscription.value_counts()"
   ]
  },
  {
   "cell_type": "code",
   "execution_count": null,
   "metadata": {},
   "outputs": [],
   "source": [
    "df_mer1[df_mer1['subscription']==1].sort_values(by='min_order_date',ascending=True).head()"
   ]
  },
  {
   "cell_type": "code",
   "execution_count": null,
   "metadata": {},
   "outputs": [],
   "source": [
    "df.groupby([\"store_id\",\"city_id\"]).count()"
   ]
  },
  {
   "cell_type": "code",
   "execution_count": null,
   "metadata": {},
   "outputs": [],
   "source": [
    "##Citys\n",
    "df.groupby('city_id').total_cost.sum()\n",
    "print(\"city wise orders\",df.groupby('city_id').order_id.nunique())\n",
    "print(\"city wise custs\",df.groupby('city_id').customer_id.nunique())\n",
    "print(\"city wise start date\",df.groupby('city_id').order_date.min())\n",
    "#df_city = pd.merge(df_sub, df, how='left', left_on = ['customer_id'], right_on = ['customer_id']) "
   ]
  },
  {
   "cell_type": "code",
   "execution_count": null,
   "metadata": {},
   "outputs": [],
   "source": [
    "df_cust_city = df.groupby(['customer_id','city_id']).head(1)\n",
    "df_cust_city.head()\n",
    "df_cust_city.count()\n"
   ]
  },
  {
   "cell_type": "code",
   "execution_count": null,
   "metadata": {},
   "outputs": [],
   "source": [
    "df_sub_city = pd.merge(df_sub, df_cust_city[['customer_id','city_id']], how='left', left_on = ['customer_id'], right_on = ['customer_id'])\n",
    "df_sub_city.head()\n",
    "df_sub_city.count()"
   ]
  },
  {
   "cell_type": "code",
   "execution_count": null,
   "metadata": {},
   "outputs": [],
   "source": [
    "df_sub_city.groupby('city_id').subscription.sum()"
   ]
  },
  {
   "cell_type": "code",
   "execution_count": null,
   "metadata": {},
   "outputs": [],
   "source": [
    "df_sub2 = pd.merge(df_sub, df.drop('subscription',axis=1), how='left', left_on = ['customer_id'], right_on = ['customer_id'])\n",
    "df_sub2.head()\n",
    "df_sub2.count()"
   ]
  },
  {
   "cell_type": "code",
   "execution_count": null,
   "metadata": {},
   "outputs": [],
   "source": [
    "print(\"total customers with subscription\",df_sub2.groupby('subscription').customer_id.nunique())\n",
    "print(\"total customers with selling price\",df_sub2.groupby('subscription').selling_price_per_unit.mean())\n",
    "print(\"total customers with orders\",df_sub2.groupby('subscription').order_id.nunique())"
   ]
  },
  {
   "cell_type": "code",
   "execution_count": null,
   "metadata": {},
   "outputs": [],
   "source": [
    "print(\"total sub with revenue\",df_sub2.groupby('subscription').total_cost.sum())"
   ]
  },
  {
   "cell_type": "code",
   "execution_count": null,
   "metadata": {},
   "outputs": [],
   "source": [
    "#Trends\n",
    "rev_trend_data = df.groupby('order_date').total_cost.sum()\n",
    "rev_trend_data.to_csv(r\"C:\\Users\\RAJENDER REDDY\\Desktop\\Mani Backup\\Bootstrap Hackathon\\rev_trend_data.csv\")"
   ]
  },
  {
   "cell_type": "code",
   "execution_count": null,
   "metadata": {},
   "outputs": [],
   "source": [
    "#Txn trend\n",
    "txn_trend = df.groupby('order_date').order_id.nunique()\n",
    "txn_trend.to_csv(r\"C:\\Users\\RAJENDER REDDY\\Desktop\\Mani Backup\\Bootstrap Hackathon\\txn_trend.csv\")"
   ]
  },
  {
   "cell_type": "code",
   "execution_count": null,
   "metadata": {},
   "outputs": [],
   "source": [
    "#subscription rev trend\n",
    "txn_trend = df.groupby(['subscription','order_date']).total_cost.sum()\n",
    "txn_trend.to_csv(r\"C:\\Users\\RAJENDER REDDY\\Desktop\\Mani Backup\\Bootstrap Hackathon\\sub_rev_trend.csv\")"
   ]
  },
  {
   "cell_type": "code",
   "execution_count": null,
   "metadata": {},
   "outputs": [],
   "source": [
    "#Subscribers non subscribed purchases\n",
    "df_subs_non_sub = pd.merge(df, df_sub_trend[['customer_id']] , how='inner', left_on = ['customer_id'], right_on = ['customer_id'])\n",
    "df_subs_non_sub1 = df_subs_non_sub[df_subs_non_sub['subscription']==0].groupby('product_id').count()\n",
    "df_subs_non_sub1 = df_subs_non_sub1.reset_index()\n",
    "df_subs_non_sub1 = df_subs_non_sub1.sort_values(by='product_id',ascending = True)\n",
    "df_subs_non_sub1.head(5)"
   ]
  },
  {
   "cell_type": "code",
   "execution_count": null,
   "metadata": {},
   "outputs": [],
   "source": [
    "#subscription trend\n",
    "df_sub_trend = df.sort_values(by=['customer_id','subscription','order_date'],ascending=[True,True,True])\n",
    "df_sub_trend = df[df['subscription']==1].groupby(['customer_id']).head(1)"
   ]
  },
  {
   "cell_type": "code",
   "execution_count": null,
   "metadata": {},
   "outputs": [],
   "source": [
    "df_sub_trend1= df_sub_trend.groupby('order_date').subscription.sum()\n",
    "df_sub_trend1.to_csv(r\"C:\\Users\\RAJENDER REDDY\\Desktop\\Mani Backup\\Bootstrap Hackathon\\subs_trend.csv\")"
   ]
  },
  {
   "cell_type": "code",
   "execution_count": null,
   "metadata": {
    "scrolled": true
   },
   "outputs": [],
   "source": [
    "#Avg tenure/txns for a customer to turn to subscriber\n",
    "df_sub_trend2 = df_sub_trend[df_sub_trend['subscription']==1].rename(columns={\"order_date\":\"sub_date\"})\n",
    "df_subs_dt = pd.merge(df, df_sub_trend2[['customer_id','sub_date']] , how='inner', left_on = ['customer_id'], right_on = ['customer_id'])\n",
    "df_subs_dt.count()"
   ]
  },
  {
   "cell_type": "code",
   "execution_count": null,
   "metadata": {},
   "outputs": [],
   "source": [
    "from datetime import datetime\n",
    "df_subs_dt['order_date1'] = df_subs_dt['order_date'].apply(lambda x:datetime.strptime(x, '%Y-%m-%d'))\n",
    "df_subs_dt['order_date1'].head()\n",
    "\n",
    "#df_subs_dt['sub_dt_diff'] = df_subs_dt['order_date']-df_subs_dt['sub_date']"
   ]
  },
  {
   "cell_type": "code",
   "execution_count": null,
   "metadata": {},
   "outputs": [],
   "source": [
    "df_subs_dt['order_date1'].dtype\n",
    "df_subs_dt['order_date1'].head()"
   ]
  },
  {
   "cell_type": "code",
   "execution_count": null,
   "metadata": {},
   "outputs": [],
   "source": [
    "from datetime import datetime\n",
    "df_subs_dt['sub_date1'] = df_subs_dt['sub_date'].apply(lambda x:datetime.strptime(x, '%Y-%m-%d'))\n",
    "df_subs_dt['sub_date1'].head()"
   ]
  },
  {
   "cell_type": "code",
   "execution_count": null,
   "metadata": {},
   "outputs": [],
   "source": [
    "df_subs_dt['sub_dt_diff'] = df_subs_dt['order_date1']-df_subs_dt['sub_date1']\n",
    "df_subs_dt['sub_dt_diff'].head()"
   ]
  },
  {
   "cell_type": "code",
   "execution_count": null,
   "metadata": {},
   "outputs": [],
   "source": [
    "abs(df_subs_dt['sub_dt_diff']).min()"
   ]
  },
  {
   "cell_type": "code",
   "execution_count": null,
   "metadata": {},
   "outputs": [],
   "source": [
    "df_subs_dt1 = df_subs_dt[df_subs_dt['sub_dt_diff']>= abs(df_subs_dt['sub_dt_diff']).min()]\n",
    "df_subs_dt1.count()"
   ]
  },
  {
   "cell_type": "code",
   "execution_count": null,
   "metadata": {},
   "outputs": [],
   "source": [
    "df_subs_dt2 = df_subs_dt[df_subs_dt['sub_dt_diff']<= abs(df_subs_dt['sub_dt_diff']).min()]\n",
    "df_subs_dt2.count()"
   ]
  },
  {
   "cell_type": "code",
   "execution_count": null,
   "metadata": {},
   "outputs": [],
   "source": [
    "df_ordr_un = df_subs_dt2.groupby('customer_id').order_id.nunique()\n",
    "df_ordr_un = df_ordr_un.reset_index()\n",
    "df_ordr_un.head()\n",
    "df_ordr_un.order_id.mean()"
   ]
  },
  {
   "cell_type": "code",
   "execution_count": null,
   "metadata": {},
   "outputs": [],
   "source": [
    "df_ordr_un1 = df_subs_dt2.groupby('customer_id').sub_dt_diff.min()\n",
    "df_ordr_un1 = df_ordr_un1.reset_index()\n",
    "print(df_ordr_un1.head())\n",
    "df_ordr_un1.sub_dt_diff.mean()"
   ]
  },
  {
   "cell_type": "code",
   "execution_count": null,
   "metadata": {},
   "outputs": [],
   "source": [
    "df_subs_dt2.customer_id.nunique()"
   ]
  },
  {
   "cell_type": "code",
   "execution_count": null,
   "metadata": {},
   "outputs": [],
   "source": [
    "df_prod = df.groupby(['product_id','category_id','subcategory_id']).order_id.nunique()\n",
    "df_prod.to_csv(r\"C:\\Users\\RAJENDER REDDY\\Desktop\\Mani Backup\\Bootstrap Hackathon\\prd_catg_counts.csv\")"
   ]
  },
  {
   "cell_type": "code",
   "execution_count": null,
   "metadata": {},
   "outputs": [],
   "source": [
    "df_prod_subcust = df[df['subscription']==1].groupby(['product_id','category_id','subcategory_id']).customer_id.nunique()\n",
    "df_prod_subcust.to_csv(r\"C:\\Users\\RAJENDER REDDY\\Desktop\\Mani Backup\\Bootstrap Hackathon\\df_prod_subcust.csv\")"
   ]
  },
  {
   "cell_type": "code",
   "execution_count": null,
   "metadata": {},
   "outputs": [],
   "source": [
    "df_prod_nonsubcust = df[df['subscription']==0].groupby(['product_id','category_id','subcategory_id']).customer_id.nunique()\n",
    "df_prod_nonsubcust.to_csv(r\"C:\\Users\\RAJENDER REDDY\\Desktop\\Mani Backup\\Bootstrap Hackathon\\df_prod_nonsubcust.csv\")"
   ]
  },
  {
   "cell_type": "code",
   "execution_count": null,
   "metadata": {},
   "outputs": [],
   "source": [
    "df_prod_cust = df.groupby(['product_id','category_id','subcategory_id']).customer_id.nunique()\n",
    "df_prod_cust.to_csv(r\"C:\\Users\\RAJENDER REDDY\\Desktop\\Mani Backup\\Bootstrap Hackathon\\df_prod_cust.csv\")"
   ]
  },
  {
   "cell_type": "code",
   "execution_count": null,
   "metadata": {},
   "outputs": [],
   "source": [
    "df_prod_cost = df.groupby(['product_id','category_id','subcategory_id']).total_cost.sum()\n",
    "df_prod_cost.to_csv(r\"C:\\Users\\RAJENDER REDDY\\Desktop\\Mani Backup\\Bootstrap Hackathon\\prd_catg_rev.csv\")"
   ]
  },
  {
   "cell_type": "code",
   "execution_count": null,
   "metadata": {},
   "outputs": [],
   "source": [
    "df_prod_price = df.groupby(['product_id','category_id','subcategory_id']).selling_price_per_unit.mean()\n",
    "df_prod_price.to_csv(r\"C:\\Users\\RAJENDER REDDY\\Desktop\\Mani Backup\\Bootstrap Hackathon\\prd_catg_price.csv\")"
   ]
  },
  {
   "cell_type": "code",
   "execution_count": null,
   "metadata": {},
   "outputs": [],
   "source": [
    "df_man_cost = df.groupby(['manufacturer_id']).total_cost.sum()\n",
    "df_man_cost.to_csv(r\"C:\\Users\\RAJENDER REDDY\\Desktop\\Mani Backup\\Bootstrap Hackathon\\man_id_rev.csv\")"
   ]
  },
  {
   "cell_type": "code",
   "execution_count": null,
   "metadata": {},
   "outputs": [],
   "source": [
    "df_man_cust = df[df['subscription']==1].groupby(['manufacturer_id']).customer_id.nunique()\n",
    "df_man_cust.to_csv(r\"C:\\Users\\RAJENDER REDDY\\Desktop\\Mani Backup\\Bootstrap Hackathon\\man_id_cust_sub.csv\")"
   ]
  },
  {
   "cell_type": "code",
   "execution_count": null,
   "metadata": {},
   "outputs": [],
   "source": [
    "df_man_prd_cost = df[df['manufacturer_id'].isin([1122016,1150128,1134336,1184736])].groupby(['product_id']).total_cost.sum()\n",
    "df_man_prd_cost.to_csv(r\"C:\\Users\\RAJENDER REDDY\\Desktop\\Mani Backup\\Bootstrap Hackathon\\df_man_prd_cost.csv\")"
   ]
  },
  {
   "cell_type": "code",
   "execution_count": null,
   "metadata": {},
   "outputs": [],
   "source": [
    "#Recomendation Engine"
   ]
  },
  {
   "cell_type": "code",
   "execution_count": null,
   "metadata": {},
   "outputs": [],
   "source": [
    "from sklearn.cross_validation import train_test_split"
   ]
  },
  {
   "cell_type": "code",
   "execution_count": null,
   "metadata": {},
   "outputs": [],
   "source": [
    "df1 = df.groupby(['product_id']).customer_id.count()\n",
    "df1 = df1.reset_index()\n",
    "df2 = df1.head(100)\n",
    "df2.count()"
   ]
  },
  {
   "cell_type": "code",
   "execution_count": null,
   "metadata": {},
   "outputs": [],
   "source": [
    "df3  = pd.merge(df, df2[['product_id']] , how='inner', left_on = ['product_id'], right_on = ['product_id'])\n",
    "df3.count()"
   ]
  },
  {
   "cell_type": "code",
   "execution_count": null,
   "metadata": {},
   "outputs": [],
   "source": [
    "df4 = df3.groupby(['customer_id','product_id']).order_id.nunique()\n",
    "df4 = df4.reset_index()\n",
    "df4.head()"
   ]
  },
  {
   "cell_type": "code",
   "execution_count": null,
   "metadata": {
    "scrolled": true
   },
   "outputs": [],
   "source": [
    "df5 = pd.pivot_table(df4, values='order_id', index='customer_id', columns='product_id')\n",
    "df5.head()"
   ]
  },
  {
   "cell_type": "code",
   "execution_count": null,
   "metadata": {},
   "outputs": [],
   "source": [
    "df5 = df5.reset_index()"
   ]
  },
  {
   "cell_type": "code",
   "execution_count": null,
   "metadata": {},
   "outputs": [],
   "source": [
    "df5.fillna(0,inplace=True)\n",
    "df5.head()"
   ]
  },
  {
   "cell_type": "code",
   "execution_count": null,
   "metadata": {},
   "outputs": [],
   "source": [
    "df6 = pd.merge(df3, df5 , how='inner', left_on = ['customer_id'], right_on = ['customer_id'])"
   ]
  },
  {
   "cell_type": "code",
   "execution_count": null,
   "metadata": {},
   "outputs": [],
   "source": [
    "df6.head()"
   ]
  },
  {
   "cell_type": "code",
   "execution_count": null,
   "metadata": {},
   "outputs": [],
   "source": [
    "from sklearn.neighbors import NearestNeighbors"
   ]
  },
  {
   "cell_type": "code",
   "execution_count": null,
   "metadata": {},
   "outputs": [],
   "source": [
    "model = NearestNeighbors(metric=\"cosine\", n_neighbors=20)\n",
    "model.fit(df6)\n",
    "results = model.kneighbors(df6)\n"
   ]
  },
  {
   "cell_type": "code",
   "execution_count": null,
   "metadata": {},
   "outputs": [],
   "source": [
    "print(results[1])\n",
    "final = pd.DataFrame(results[1])"
   ]
  }
 ],
 "metadata": {
  "kernelspec": {
   "display_name": "Python 3",
   "language": "python",
   "name": "python3"
  },
  "language_info": {
   "codemirror_mode": {
    "name": "ipython",
    "version": 3
   },
   "file_extension": ".py",
   "mimetype": "text/x-python",
   "name": "python",
   "nbconvert_exporter": "python",
   "pygments_lexer": "ipython3",
   "version": "3.7.0"
  }
 },
 "nbformat": 4,
 "nbformat_minor": 2
}
